{
 "cells": [
  {
   "cell_type": "code",
   "execution_count": 2,
   "id": "edfc004a-05d5-482e-a24d-c7b7c93a785a",
   "metadata": {},
   "outputs": [],
   "source": [
    "import warnings\n",
    "warnings.filterwarnings('ignore')\n",
    "\n",
    "import pandas as pd\n",
    "import numpy as np\n",
    "import matplotlib.pyplot as plt\n",
    "pd.set_option('display.float_format', '{:.2f}'.format)\n",
    "\n",
    "import re\n",
    "import nltk\n",
    "from nltk.corpus import stopwords\n",
    "from nltk.stem.snowball import RussianStemmer\n",
    "from sklearn.feature_extraction.text import CountVectorizer,  TfidfTransformer\n",
    "from sklearn.linear_model import LogisticRegression\n",
    "from sklearn.ensemble import RandomForestClassifier\n",
    "from sklearn.metrics import accuracy_score, precision_score"
   ]
  },
  {
   "cell_type": "code",
   "execution_count": 11,
   "id": "9111e293-5437-4e42-bdd9-2499765d2702",
   "metadata": {},
   "outputs": [
    {
     "name": "stdout",
     "output_type": "stream",
     "text": [
      "                        0\n",
      "0  Люблю хороших пиздецов\n"
     ]
    }
   ],
   "source": [
    "X_train = pd.read_csv('rusentitweet_train.csv')\n",
    "X_test = pd.read_csv('rusentitweet_test.csv')\n",
    "X_train = X_train[X_train.label.isin(['positive','negative'])]\n",
    "X_train = X_train.drop('id', axis=1).replace(['positive'], 1).replace(['negative'], 0)\n",
    "X_test = X_test[X_test.label.isin(['positive','negative'])]\n",
    "X_test = pd.DataFrame([[\"Люблю хороших пиздецов\"]])\n",
    "print(X_test)"
   ]
  },
  {
   "cell_type": "code",
   "execution_count": 12,
   "id": "3a32a1fb-80fc-4d0a-9509-0f69147a9927",
   "metadata": {},
   "outputs": [],
   "source": [
    "# Изменение регистра, удаление пунктуации и спец.символов\n",
    "def cleaning(str):\n",
    "    str = str.lower()\n",
    "    # Чистка от ссылок\n",
    "    str = re.sub(r'http\\S+', '', str)\n",
    "    # Чистка от табуляции, переноса строки и т.д.\n",
    "    str = re.sub(r'\\r|\\n|\\t|_|\\\\u', ' ', str)\n",
    "    # Чистка от тэгов\n",
    "    str = re.sub(r'\\@\\S*', '', str)\n",
    "    # Чистка от символов\n",
    "    str = re.sub(r'[()/,.0-9%#-?!`\\'—]', '', str)\n",
    "    \n",
    "    # str = re.sub(r'', '', str)\n",
    "    return str\n",
    "\n"
   ]
  },
  {
   "cell_type": "code",
   "execution_count": 13,
   "id": "493e3ac9-fb4e-4016-be21-dafdf331c41d",
   "metadata": {},
   "outputs": [],
   "source": [
    "# Стемминг\n",
    "stemmer = RussianStemmer()\n",
    "def stem_words(words):\n",
    "    return [stemmer.stem(word) for word in words]\n",
    "\n",
    "def preprocess_tweet(tweet):\n",
    "    tweet = cleaning(tweet)\n",
    "    # Tokenize the tweet\n",
    "    words = nltk.word_tokenize(tweet)\n",
    "    words = stem_words(words)\n",
    "    # Return the preprocessed tweet as a string\n",
    "    return ' '.join(words)"
   ]
  },
  {
   "cell_type": "code",
   "execution_count": 20,
   "id": "6371d9ba-faa4-4e30-8150-1457952fb9bb",
   "metadata": {},
   "outputs": [
    {
     "name": "stdout",
     "output_type": "stream",
     "text": [
      "0    Люблю хороших пиздецов\n",
      "Name: 0, dtype: object\n"
     ]
    }
   ],
   "source": [
    "print(X_test[0])"
   ]
  },
  {
   "cell_type": "code",
   "execution_count": 21,
   "id": "86c7652f-629d-4d3c-9c2f-f4a14302b797",
   "metadata": {},
   "outputs": [],
   "source": [
    "# Применение методов\n",
    "milled_train = list(map(preprocess_tweet, X_train.text))\n",
    "milled_test = list(map(preprocess_tweet, X_test[0]))"
   ]
  },
  {
   "cell_type": "code",
   "execution_count": 22,
   "id": "bef74f4e-f32c-4b00-a83b-863ecf08f547",
   "metadata": {},
   "outputs": [],
   "source": [
    "# Initialize the CountVectorizer from sklearn to convert the preprocessed tweets into a bag of words\n",
    "vectorizer = CountVectorizer()\n",
    "# Preprocess the train tweets and convert them into a bag of words\n",
    "train_tweets_bow = vectorizer.fit_transform(milled_train)\n",
    "# Preprocess the test tweets and convert them into a bag of words using the same vectorizer\n",
    "test_tweets_bow = vectorizer.transform(milled_test)\n",
    "\n",
    "# Calculate the tf-idf\n",
    "tfidf_transformer = TfidfTransformer()\n",
    "tfidf_matrix = tfidf_transformer.fit(train_tweets_bow)\n",
    "\n",
    "x_tf_idf_train = tfidf_matrix.transform(train_tweets_bow)\n",
    "x_tf_idf_test = tfidf_matrix.transform(test_tweets_bow)\n",
    "\n",
    "# vectorizer.get_feature_names_out()"
   ]
  },
  {
   "cell_type": "code",
   "execution_count": 27,
   "id": "a5320d9f-eb40-4819-843f-0abd6d222f16",
   "metadata": {},
   "outputs": [
    {
     "name": "stdout",
     "output_type": "stream",
     "text": [
      "Classification Report of Logistic Regression:\n",
      "0.9096082293718538 [[0.10883031 0.89116969]]\n",
      "Classification Report of Random Forest:\n",
      "0.9991245349091705 [[0.33 0.67]]\n"
     ]
    }
   ],
   "source": [
    "# Обучение моделей\n",
    "lr = LogisticRegression()\n",
    "lr.fit(x_tf_idf_train, X_train.label)\n",
    "\n",
    "rf = RandomForestClassifier()\n",
    "rf.fit(x_tf_idf_train, X_train.label)\n",
    "\n",
    "y_lr_train = lr.score(x_tf_idf_train, X_train.label)\n",
    "y_rf_train = rf.score(x_tf_idf_train, X_train.label)\n",
    "# # Оценка качества моделей на тестовых данных\n",
    "# y_lr_test = lr.score(x_tf_idf_test, X_test.label)\n",
    "# y_rf_test = rf.score(x_tf_idf_test, X_test.label)\n",
    "\n",
    "# Предикты\n",
    "y_pred_lr_train = lr.predict(x_tf_idf_train)\n",
    "y_pred_rf_train = rf.predict(x_tf_idf_train)\n",
    "# Оценка качества моделей на тестовых данных\n",
    "y_pred_lr_test = lr.predict_proba(x_tf_idf_test)\n",
    "y_pred_rf_test = rf.predict_proba(x_tf_idf_test)\n",
    "\n",
    "# Отчет о классификации\n",
    "print('Classification Report of Logistic Regression:')\n",
    "print(y_lr_train, y_pred_lr_test)\n",
    "\n",
    "print('Classification Report of Random Forest:')\n",
    "print(y_rf_train, y_pred_rf_test)"
   ]
  },
  {
   "cell_type": "code",
   "execution_count": 8,
   "id": "60e0e0c6-3a2f-44c3-997c-66da22d3008e",
   "metadata": {},
   "outputs": [
    {
     "name": "stdout",
     "output_type": "stream",
     "text": [
      "любл      3.51\n",
      "хорош     3.38\n",
      "красив    3.07\n",
      "нрав      2.74\n",
      "крут      2.66\n",
      "          ... \n",
      "нах      -2.43\n",
      "пиздец   -2.85\n",
      "нет      -2.89\n",
      "блят     -3.32\n",
      "не       -3.46\n",
      "Length: 8997, dtype: float64\n"
     ]
    }
   ],
   "source": [
    "print(pd.Series(lr.coef_[0], index = vectorizer.get_feature_names_out()).sort_values(ascending=False))"
   ]
  },
  {
   "cell_type": "code",
   "execution_count": 9,
   "id": "2074c822-5afd-448f-9d0e-a385aae5f01b",
   "metadata": {},
   "outputs": [
    {
     "name": "stdout",
     "output_type": "stream",
     "text": [
      "           Type  Accuracy  Precision\n",
      "0   randf_train      1.00       1.00\n",
      "1    randf_test      0.75       0.75\n",
      "0  logreg_train      0.91       0.92\n",
      "1   logreg_test      0.77       0.80\n"
     ]
    }
   ],
   "source": [
    "# Вычисление метрик для логистической регрессии\n",
    "data_logreg = {\n",
    "    'Type': ['logreg_train', 'logreg_test'],\n",
    "    'Accuracy': [accuracy_score(X_train.label, y_pred_lr_train), accuracy_score(X_test.label, y_pred_lr_test)], \n",
    "    'Precision': [precision_score(X_train.label, y_pred_lr_train, average='macro'), precision_score(X_test.label, y_pred_lr_test, average='macro')], \n",
    "}\n",
    "\n",
    "# Вычисление метрик для случайного леса\n",
    "data_forest = {\n",
    "    'Type': ['randf_train', 'randf_test'],\n",
    "    'Accuracy': [accuracy_score(X_train.label, y_pred_rf_train), accuracy_score(X_test.label, y_pred_rf_test)], \n",
    "    'Precision': [precision_score(X_train.label, y_pred_rf_train, average='macro'), precision_score(X_test.label, y_pred_rf_test, average='macro')], \n",
    "}\n",
    "\n",
    "print(pd.concat([pd.DataFrame(data_forest), pd.DataFrame(data_logreg)]))"
   ]
  },
  {
   "cell_type": "code",
   "execution_count": 10,
   "id": "36e18aee-0e9e-4c53-adc2-619c4f2970b4",
   "metadata": {},
   "outputs": [
    {
     "name": "stdout",
     "output_type": "stream",
     "text": [
      "Classification Report of Logistic Regression:\n",
      "0.98 0.6\n",
      "Classification Report of Random Forest:\n",
      "1.0 0.63\n"
     ]
    }
   ],
   "source": [
    "import pymystem3\n",
    "\n",
    "X_train = X_train.head(100)\n",
    "X_test = X_test.head(100)\n",
    "\n",
    "# Initialize the lemmatizer\n",
    "mystem = pymystem3.Mystem()\n",
    "\n",
    "def preprocess_tweet(tweet):\n",
    "    tweet = cleaning(tweet)\n",
    "    lemmas = mystem.lemmatize(tweet)\n",
    "    return ' '.join(lemmas)\n",
    "\n",
    "# Применение методов\n",
    "milled_train = list(map(preprocess_tweet, X_train.text))\n",
    "milled_test = list(map(preprocess_tweet, X_test.text))\n",
    "\n",
    "# Initialize the CountVectorizer from sklearn to convert the preprocessed tweets into a bag of words\n",
    "vectorizer = CountVectorizer()\n",
    "# Preprocess the train tweets and convert them into a bag of words\n",
    "train_tweets_bow = vectorizer.fit_transform(milled_train)\n",
    "# Preprocess the test tweets and convert them into a bag of words using the same vectorizer\n",
    "test_tweets_bow = vectorizer.transform(milled_test)\n",
    "\n",
    "# Calculate the tf-idf\n",
    "tfidf_transformer = TfidfTransformer()\n",
    "tfidf_matrix = tfidf_transformer.fit(train_tweets_bow)\n",
    "\n",
    "x_tf_idf_train = tfidf_matrix.transform(train_tweets_bow)\n",
    "x_tf_idf_test = tfidf_matrix.transform(test_tweets_bow)\n",
    "\n",
    "# vectorizer.get_feature_names_out()\n",
    "# Обучение моделей\n",
    "lr = LogisticRegression()\n",
    "lr.fit(x_tf_idf_train, X_train.label)\n",
    "\n",
    "rf = RandomForestClassifier()\n",
    "rf.fit(x_tf_idf_train, X_train.label)\n",
    "\n",
    "y_lr_train = lr.score(x_tf_idf_train, X_train.label)\n",
    "y_rf_train = rf.score(x_tf_idf_train, X_train.label)\n",
    "# Оценка качества моделей на тестовых данных\n",
    "y_lr_test = lr.score(x_tf_idf_test, X_test.label)\n",
    "y_rf_test = rf.score(x_tf_idf_test, X_test.label)\n",
    "\n",
    "# Предикты\n",
    "y_pred_lr_train = lr.predict(x_tf_idf_train)\n",
    "y_pred_rf_train = rf.predict(x_tf_idf_train)\n",
    "# Оценка качества моделей на тестовых данных\n",
    "y_pred_lr_test = lr.predict(x_tf_idf_test)\n",
    "y_pred_rf_test = rf.predict(x_tf_idf_test)\n",
    "\n",
    "# Отчет о классификации\n",
    "print('Classification Report of Logistic Regression:')\n",
    "print(y_lr_train, y_lr_test)\n",
    "\n",
    "print('Classification Report of Random Forest:')\n",
    "print(y_rf_train, y_rf_test)"
   ]
  },
  {
   "cell_type": "code",
   "execution_count": 11,
   "id": "530677f8-9376-4b7c-a648-ac3a929e3650",
   "metadata": {},
   "outputs": [
    {
     "name": "stdout",
     "output_type": "stream",
     "text": [
      "такой      0.48\n",
      "мой        0.47\n",
      "самый      0.47\n",
      "ахах       0.46\n",
      "ахаххах    0.46\n",
      "           ... \n",
      "что       -0.46\n",
      "вы        -0.53\n",
      "как       -0.53\n",
      "пиздец    -0.56\n",
      "не        -0.59\n",
      "Length: 492, dtype: float64\n",
      "           Type  Accuracy  Precision\n",
      "0   randf_train      1.00       1.00\n",
      "1    randf_test      0.63       0.62\n",
      "0  logreg_train      0.98       0.98\n",
      "1   logreg_test      0.60       0.58\n"
     ]
    }
   ],
   "source": [
    "print(pd.Series(lr.coef_[0], index = vectorizer.get_feature_names_out()).sort_values(ascending=False))\n",
    "\n",
    "# Вычисление метрик для логистической регрессии\n",
    "data_logreg = {\n",
    "    'Type': ['logreg_train', 'logreg_test'],\n",
    "    'Accuracy': [accuracy_score(X_train.label, y_pred_lr_train), accuracy_score(X_test.label, y_pred_lr_test)], \n",
    "    'Precision': [precision_score(X_train.label, y_pred_lr_train, average='macro'), precision_score(X_test.label, y_pred_lr_test, average='macro')], \n",
    "}\n",
    "\n",
    "# Вычисление метрик для случайного леса\n",
    "data_forest = {\n",
    "    'Type': ['randf_train', 'randf_test'],\n",
    "    'Accuracy': [accuracy_score(X_train.label, y_pred_rf_train), accuracy_score(X_test.label, y_pred_rf_test)], \n",
    "    'Precision': [precision_score(X_train.label, y_pred_rf_train, average='macro'), precision_score(X_test.label, y_pred_rf_test, average='macro')], \n",
    "}\n",
    "\n",
    "print(pd.concat([pd.DataFrame(data_forest), pd.DataFrame(data_logreg)]))"
   ]
  },
  {
   "cell_type": "code",
   "execution_count": null,
   "id": "0ddeaf90-309d-4d04-aab8-79ad6e66aaea",
   "metadata": {},
   "outputs": [],
   "source": []
  }
 ],
 "metadata": {
  "kernelspec": {
   "display_name": "Python 3 (ipykernel)",
   "language": "python",
   "name": "python3"
  },
  "language_info": {
   "codemirror_mode": {
    "name": "ipython",
    "version": 3
   },
   "file_extension": ".py",
   "mimetype": "text/x-python",
   "name": "python",
   "nbconvert_exporter": "python",
   "pygments_lexer": "ipython3",
   "version": "3.11.7"
  }
 },
 "nbformat": 4,
 "nbformat_minor": 5
}
